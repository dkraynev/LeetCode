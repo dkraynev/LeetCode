{
  "nbformat": 4,
  "nbformat_minor": 0,
  "metadata": {
    "colab": {
      "provenance": [],
      "authorship_tag": "ABX9TyPzAeTqYoC23DAYNMxP4tmz",
      "include_colab_link": true
    },
    "kernelspec": {
      "name": "python3",
      "display_name": "Python 3"
    },
    "language_info": {
      "name": "python"
    }
  },
  "cells": [
    {
      "cell_type": "markdown",
      "metadata": {
        "id": "view-in-github",
        "colab_type": "text"
      },
      "source": [
        "<a href=\"https://colab.research.google.com/github/dkraynev/LeetCode/blob/main/25_Large_Perimeter_Triangle.ipynb\" target=\"_parent\"><img src=\"https://colab.research.google.com/assets/colab-badge.svg\" alt=\"Open In Colab\"/></a>"
      ]
    },
    {
      "cell_type": "markdown",
      "source": [
        "Given an integer array nums, return the largest perimeter of a triangle with a non-zero area, formed from three of these lengths. If it is impossible to form any triangle of a non-zero area, return 0."
      ],
      "metadata": {
        "id": "MGytt66zGAzz"
      }
    },
    {
      "cell_type": "code",
      "execution_count": 12,
      "metadata": {
        "id": "n--b_qH8e7FV"
      },
      "outputs": [],
      "source": [
        "class Solution:\n",
        "    def largestPerimeter(self, nums):\n",
        "        nums.sort()\n",
        "        triangle = False\n",
        "        max_perimeter = 0\n",
        "        for i in range(len(nums)-2):\n",
        "            a = nums[i]\n",
        "            b = nums[i+1]\n",
        "            c = nums[i+2]\n",
        "            if a + b > c:\n",
        "                if a + c > b:\n",
        "                    if b + c > a:\n",
        "                        triangle = True\n",
        "                        perimeter = a + b + c\n",
        "                        if perimeter > max_perimeter:\n",
        "                            max_perimeter = perimeter\n",
        "        if triangle:\n",
        "            return max_perimeter\n",
        "        else:\n",
        "            return 0"
      ]
    },
    {
      "cell_type": "code",
      "source": [
        "prov = Solution()\n",
        "\n",
        "# Example 1:\n",
        "nums = [1,2,1,10]\n",
        "# Output: 0\n",
        "print(prov.largestPerimeter(nums))\n",
        "\n",
        "# Example 2:\n",
        "#bills = [5,5,10,10,20]\n",
        "# Output:\n",
        "#print(prov.lemonadeChange(bills))"
      ],
      "metadata": {
        "colab": {
          "base_uri": "https://localhost:8080/"
        },
        "id": "9ljSgA8K_jtI",
        "outputId": "0f14ae45-4d39-41c3-bc1d-39e86c9250f0"
      },
      "execution_count": 13,
      "outputs": [
        {
          "output_type": "stream",
          "name": "stdout",
          "text": [
            "0\n"
          ]
        }
      ]
    }
  ]
}